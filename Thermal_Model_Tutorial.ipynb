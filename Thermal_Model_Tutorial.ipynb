{
 "cells": [
  {
   "cell_type": "markdown",
   "id": "71ec5ae0",
   "metadata": {},
   "source": [
    "## Thermal Model Tutorial\n",
    "Author : Henry Nachman\n",
    "\n",
    "Date : 25 July 2025"
   ]
  },
  {
   "cell_type": "markdown",
   "id": "edd3e0bd",
   "metadata": {},
   "source": [
    "This notebook will walk you through how to use the thermal model as a python package."
   ]
  },
  {
   "cell_type": "markdown",
   "id": "c80759e9",
   "metadata": {},
   "source": [
    "### Creating a Thermal Model"
   ]
  },
  {
   "cell_type": "markdown",
   "id": "c0f12ad0",
   "metadata": {},
   "source": [
    "If you haven't yet created a thermal model, the streamlit gui can be used to easily create a model in the right format."
   ]
  },
  {
   "cell_type": "code",
   "execution_count": null,
   "id": "0aed1c31",
   "metadata": {},
   "outputs": [
    {
     "name": "stdout",
     "output_type": "stream",
     "text": [
      "Starting the Streamlit GUI...\n"
     ]
    }
   ],
   "source": [
    "# First let's import the necessary libraries\n",
    "from thermal_model.gui_init import init_gui\n",
    "\n",
    "# now let's run the streamlit app\n",
    "init_gui()"
   ]
  },
  {
   "cell_type": "markdown",
   "id": "9962f340",
   "metadata": {},
   "source": [
    "_Note : if this is your first time running the thermal model, you will need to specify the path to the local clone of the Cryogenic Materials Repository Github repository. The streamlit app will prompt you to do this if it is not already set._"
   ]
  },
  {
   "cell_type": "markdown",
   "id": "d9405aca",
   "metadata": {},
   "source": [
    "The Streamlit GUI incorporates several tools that may be desired, such as an optimization button."
   ]
  },
  {
   "cell_type": "markdown",
   "id": "d313277c",
   "metadata": {},
   "source": [
    "### Thermal Model tools"
   ]
  },
  {
   "cell_type": "markdown",
   "id": "db00dd3e",
   "metadata": {},
   "source": [
    "Now that we have a json file in the appropriate format, manipulation of the thermal model can be done entirely in Python."
   ]
  },
  {
   "cell_type": "code",
   "execution_count": 1,
   "id": "90242950",
   "metadata": {},
   "outputs": [],
   "source": [
    "import json, os\n",
    "from thermal_model.stage_calc import load_thermal_model\n",
    "# Specify the path to the JSON file containing the thermal model\n",
    "json_path = f\"C:{os.sep}Users{os.sep}hen367{os.sep}OneDrive - The University of Texas at Austin{os.sep}01_RESEARCH{os.sep}05_BLAST{os.sep}hn_BLAST{os.sep}01_Thermal_Model{os.sep}TM_JSONs{os.sep}BLAST_TM_20250722.json\"\n",
    "tm = load_thermal_model(json_path)"
   ]
  },
  {
   "cell_type": "code",
   "execution_count": 2,
   "id": "7063a3c2",
   "metadata": {},
   "outputs": [
    {
     "name": "stdout",
     "output_type": "stream",
     "text": [
      "{'VCS 2': {'G10 Support Cylinder': {'Type': 'Component', 'Material': 'G10_CR_Warp', 'Interpolate': True, 'Fit Choice': None, 'OD (m)': 0.904875, 'ID (m)': 0.9017, 'Length (m)': 0.7366, 'Number': 1.0, 'Power per Part (W)': 11.204836900791026, 'Power Total (W)': 11.204836900791026}, 'He Fill Tube': {'Type': 'A/L (m)', 'Material': 'Stainless_Steel', 'Interpolate': True, 'Fit Choice': None, 'A/L (m)': 8.584e-05, 'Number': 1.0, 'Power per Part (W)': 0.026647355507537843, 'Power Total (W)': 0.026647355507537843}, 'Radiation Vac Can': {'Type': 'Other', 'Number': 1.0, 'Power per Part (W)': 1.1964, 'Power Total (W)': 1.1964}, 'He Pump Pot Tube': {'Type': 'A/L (m)', 'Material': 'Stainless_Steel', 'Interpolate': True, 'Fit Choice': None, 'A/L (m)': 0.000175678, 'Number': 1.0, 'Power per Part (W)': 0.05453581221870029, 'Power Total (W)': 0.05453581221870029}, 'Housekeeping Cables': {'Type': 'Component', 'Material': 'Manganin', 'Interpolate': True, 'Fit Choice': None, 'OD (m)': 0.00011176, 'ID (m)': 0.0, 'Length (m)': 0.1778, 'Number': 152.0, 'Power per Part (W)': 2.608835132184479e-05, 'Power Total (W)': 0.003965429400920408}, 'Radiation Window': {'Type': 'Other', 'Number': 1.0, 'Power per Part (W)': 0.461, 'Power Total (W)': 0.461}, 'Coax Cables': {'Type': 'Coax', 'Casing Material': 'Stainless_Steel', 'Casing Interpolate': True, 'Casing Fit Choice': None, 'Insulator Material': 'Teflon', 'Insulator Interpolate': True, 'Insulator Fit Choice': None, 'Core Material': 'Beryllium_Copper', 'Core Interpolate': True, 'Core Fit Choice': None, 'Case OD (m)': 0.0021971, 'Insulator OD (m)': 0.0016764, 'Core OD (m)': 0.00051054, 'Length (m)': 0.1778, 'Number': 14.0, 'Power per Part (W)': 0.0044520755609485764, 'Power Total (W)': 0.06232905785328007}, 'Optical Load': {'Type': 'Power per Part', 'Power per Part (W)': 0.0, 'Number': 1, 'Power Total (W)': 0.0}}, 'VCS 1': {'G10 Support Cylinder': {'Type': 'Component', 'Material': 'G10_CR_Warp', 'Interpolate': True, 'Fit Choice': None, 'OD (m)': 0.904875, 'ID (m)': 0.9017, 'Length (m)': 0.508, 'Number': 1.0, 'Power per Part (W)': 0.8652148921433706, 'Power Total (W)': 0.8652148921433706}, 'He Fill Tube': {'Type': 'A/L (m)', 'Material': 'Stainless_Steel', 'Interpolate': True, 'Fit Choice': None, 'A/L (m)': 7.2436e-05, 'Number': 3.0, 'Power per Part (W)': 0.13729180244118755, 'Power Total (W)': 0.41187540732356265}, 'He Pump Pot Tube': {'Type': 'A/L (m)', 'Material': 'Stainless_Steel', 'Interpolate': True, 'Fit Choice': None, 'A/L (m)': 0.00011859, 'Number': 1.0, 'Power per Part (W)': 0.2247699327889507, 'Power Total (W)': 0.2247699327889507}, 'Housekeeping Cables': {'Type': 'Component', 'Material': 'Manganin', 'Interpolate': True, 'Fit Choice': None, 'OD (m)': 0.00011176, 'ID (m)': 0.0, 'Length (m)': 0.127, 'Number': 152.0, 'Power per Part (W)': 0.00021414218501011114, 'Power Total (W)': 0.03254961212153689}, 'Coax Cables': {'Type': 'Coax', 'Casing Material': 'Stainless_Steel', 'Casing Interpolate': True, 'Casing Fit Choice': None, 'Insulator Material': 'Teflon', 'Insulator Interpolate': True, 'Insulator Fit Choice': None, 'Core Material': 'Beryllium_Copper', 'Core Interpolate': True, 'Core Fit Choice': None, 'Case OD (m)': 0.0021971, 'Insulator OD (m)': 0.0016764, 'Core OD (m)': 0.00051054, 'Length (m)': 0.127, 'Number': 14.0, 'Power per Part (W)': 0.04967869213929237, 'Power Total (W)': 0.6955016899500932}, 'Radiation Vac Can': {'Type': 'Other', 'Number': 1.0, 'Power per Part (W)': 2.17, 'Power Total (W)': 2.17}, 'Radiation Window': {'Type': 'Other', 'Number': 1.0, 'Power per Part (W)': 0.112, 'Power Total (W)': 0.112}, 'Optical Load': {'Type': 'Power per Part', 'Power per Part (W)': 0.0, 'Number': 1, 'Power Total (W)': 0.0}}, '4K - LHe': {'G10 Support Cylinder': {'Type': 'Component', 'Material': 'G10_CR_Warp', 'Interpolate': True, 'Fit Choice': None, 'OD (m)': 0.777875, 'ID (m)': 0.775843, 'Length (m)': 0.4826, 'Number': 1.0, 'Power per Part (W)': 0.07048229092246835, 'Power Total (W)': 0.07048229092246835}, 'He Fill Tube': {'Type': 'A/L (m)', 'Material': 'Stainless_Steel', 'Interpolate': True, 'Fit Choice': None, 'A/L (m)': 0.00018185, 'Number': 1.0, 'Power per Part (W)': 0.04110879635012644, 'Power Total (W)': 0.04110879635012644}, 'Housekeeping Cables': {'Type': 'Component', 'Material': 'Manganin', 'Interpolate': True, 'Fit Choice': None, 'OD (m)': 0.00011176, 'ID (m)': 0.0, 'Length (m)': 0.7112, 'Number': 152.0, 'Power per Part (W)': 5.296074372520353e-06, 'Power Total (W)': 0.0008050033046230937}, 'Coax Cables': {'Type': 'Coax', 'Casing Material': 'Stainless_Steel', 'Casing Interpolate': True, 'Casing Fit Choice': None, 'Insulator Material': 'Teflon', 'Insulator Interpolate': True, 'Insulator Fit Choice': None, 'Core Material': 'Beryllium_Copper', 'Core Interpolate': True, 'Core Fit Choice': None, 'Case OD (m)': 0.0021971, 'Insulator OD (m)': 0.0016764, 'Core OD (m)': 0.00051054, 'Length (m)': 0.762, 'Number': 14.0, 'Power per Part (W)': 0.0026716777419368374, 'Power Total (W)': 0.03740348838711573}, 'Radiation Vac Can': {'Type': 'Other', 'Number': 1.0, 'Power per Part (W)': 0.00864, 'Power Total (W)': 0.00864}, 'Radiation Window': {'Type': 'Other', 'Number': 1.0, 'Power per Part (W)': 0.0506, 'Power Total (W)': 0.0506}, 'Optical Load': {'Type': 'Power per Part', 'Power per Part (W)': 0.0, 'Number': 1, 'Power Total (W)': 0.0}}, '4K - Transient': {'LNA': {'Type': 'Other', 'Number': 7.0, 'Power per Part (W)': 0.005, 'Power Total (W)': 0.035}, 'ADR': {'Type': 'Other', 'Number': 1.0, 'Power per Part (W)': 0.00072, 'Power Total (W)': 0.00072}, 'Motor Axles': {'Type': 'Component', 'Material': 'Stainless_Steel', 'Interpolate': True, 'Fit Choice': None, 'OD (m)': 0.0047625, 'ID (m)': 0.0037465, 'Length (m)': 0.7112, 'Number': 1.0, 'Power per Part (W)': 0.02321698203157182, 'Power Total (W)': 0.02321698203157182}, 'Level Sensors': {'Type': 'Other', 'Number': 3.0, 'Power per Part (W)': 9.76563e-07, 'Power Total (W)': 2.929689e-06}, 'Fridge Recycle': {'Type': 'Other', 'Number': 1.0, 'Power per Part (W)': 0.0028992, 'Power Total (W)': 0.0028992}}, '2K': {'G10 Support Cylinder': {'Type': 'Component', 'Material': 'G10_CR_Warp', 'Interpolate': True, 'Fit Choice': None, 'OD (m)': 0.082296, 'ID (m)': 0.08128, 'Length (m)': 0.09652, 'Number': 1.0, 'Power per Part (W)': 0.00017841348606508566, 'Power Total (W)': 0.00017841348606508566}, 'He Pump Pot Tube': {'Type': 'A/L (m)', 'Material': 'Stainless_Steel', 'Interpolate': True, 'Fit Choice': None, 'A/L (m)': 1.85e-05, 'Number': 1.0, 'Power per Part (W)': 8.819735992324816e-06, 'Power Total (W)': 8.819735992324816e-06}, 'Coax Cables': {'Type': 'Coax', 'Casing Material': 'Stainless_Steel', 'Casing Interpolate': True, 'Casing Fit Choice': None, 'Insulator Material': 'NbTi', 'Insulator Interpolate': True, 'Insulator Fit Choice': None, 'Core Material': 'Beryllium_Copper', 'Core Interpolate': True, 'Core Fit Choice': None, 'Case OD (m)': 0.0011938, 'Insulator OD (m)': 0.0009398, 'Core OD (m)': 0.000287, 'Length (m)': 0.1524, 'Number': 7.0, 'Power per Part (W)': 3.0122342656658338e-06, 'Power Total (W)': 2.1085639859660837e-05}, 'Radiation': {'Type': 'Other', 'Number': 1.0, 'Power per Part (W)': 4.76e-08, 'Power Total (W)': 4.76e-08}, 'Gas Gap heat Switch': {'Type': 'Component', 'Material': 'Stainless_Steel', 'Interpolate': True, 'Fit Choice': None, 'OD (m)': 0.009525, 'ID (m)': 0.0093726, 'Length (m)': 0.1016, 'Number': 1.0, 'Power per Part (W)': 1.0613818321195206e-05, 'Power Total (W)': 1.0613818321195206e-05}, '2K Condenser to 4K Charcoal': {'Type': 'Component', 'Material': 'Stainless_Steel', 'Interpolate': True, 'Fit Choice': None, 'OD (m)': 0.0254, 'ID (m)': 0.024892, 'Length (m)': 0.0381, 'Number': 1.0, 'Power per Part (W)': 0.00025107957318956404, 'Power Total (W)': 0.00025107957318956404}, 'H3 Fridge': {'Type': 'Component', 'Material': 'Stainless_Steel', 'Interpolate': True, 'Fit Choice': None, 'OD (m)': 0.0127, 'ID (m)': 0.012446, 'Length (m)': 0.04318, 'Number': 1.0, 'Power per Part (W)': 5.5385199968286185e-05, 'Power Total (W)': 5.5385199968286185e-05}, 'Pump Pot Capillary Static Load': {'Type': 'Component', 'Material': 'Stainless_Steel', 'Interpolate': True, 'Fit Choice': None, 'OD (m)': 0.0007938, 'ID (m)': 0.0005398, 'Length (m)': 0.254, 'Number': 1.0, 'Power per Part (W)': 4.99343412678363e-07, 'Power Total (W)': 4.99343412678363e-07}, 'FPA Legs': {'Type': 'Component', 'Material': 'Graphite_a', 'Interpolate': True, 'Fit Choice': None, 'OD (m)': 0.0024384, 'ID (m)': 0.0016764, 'Length (m)': 0.0254, 'Number': 24.0, 'Power per Part (W)': 4.0443369546024805e-06, 'Power Total (W)': 9.706408691045953e-05}, 'He3 Fridge Recycle': {'Type': 'Other', 'Number': 1.0, 'Power per Part (W)': 0.000480542, 'Power Total (W)': 0.000480542}, 'ADR': {'Type': 'Other', 'Number': 1.0, 'Power per Part (W)': 0.000521, 'Power Total (W)': 0.000521}, 'Optical Load': {'Type': 'Power per Part', 'Power per Part (W)': 0.0, 'Number': 1, 'Power Total (W)': 0.0}}, '300mK': {'Heat Switch': {'Type': 'Component', 'Material': 'Stainless_Steel', 'Interpolate': True, 'Fit Choice': None, 'OD (m)': 0.009525, 'ID (m)': 0.0093726, 'Length (m)': 0.1016, 'Number': 1e-05, 'Power per Part (W)': 2.747721388751269e-06, 'Power Total (W)': 0.0}, 'He Pump Pot Tube': {'Type': 'Component', 'Material': 'Stainless_Steel', 'Interpolate': True, 'Fit Choice': None, 'OD (m)': 0.0127, 'ID (m)': 0.012446, 'Length (m)': 0.2032, 'Number': 1.0, 'Power per Part (W)': 3.046868475429836e-06, 'Power Total (W)': 3.046868475429836e-06}, 'FPA Legs': {'Type': 'Component', 'Material': 'Graphite_a', 'Interpolate': True, 'Fit Choice': None, 'OD (m)': 0.0024384, 'ID (m)': 0.0016764, 'Length (m)': 0.0127, 'Number': 24.0, 'Power per Part (W)': 9.536146293759129e-07, 'Power Total (W)': 2.288675110502191e-05}, 'Coax Cables': {'Type': 'Coax', 'Casing Material': 'Stainless_Steel', 'Casing Interpolate': True, 'Casing Fit Choice': None, 'Insulator Material': 'NbTi', 'Insulator Interpolate': True, 'Insulator Fit Choice': None, 'Core Material': 'Beryllium_Copper', 'Core Interpolate': True, 'Core Fit Choice': None, 'Case OD (m)': 0.00088, 'Insulator OD (m)': 0.00062, 'Core OD (m)': 0.0002032, 'Length (m)': 0.1016, 'Number': 7.0, 'Power per Part (W)': 6.722253223702617e-08, 'Power Total (W)': 4.7055772565918323e-07}, 'Radiation': {'Type': 'Other', 'Number': 1.0, 'Power per Part (W)': 5.02e-08, 'Power Total (W)': 5.02e-08}, 'Optical Load': {'Type': 'Power per Part', 'Power per Part (W)': 0.0, 'Number': 1, 'Power Total (W)': 0.0}}, '100mK': {'Heat Switch': {'Type': 'Component', 'Material': 'Stainless_Steel', 'Interpolate': True, 'Fit Choice': None, 'OD (m)': 0.009525, 'ID (m)': 0.0093726, 'Length (m)': 0.1016, 'Number': 1e-05, 'Power per Part (W)': 5.2334560684416515e-08, 'Power Total (W)': 0.0}, 'Coax Cables': {'Type': 'Coax', 'Casing Material': 'Stainless_Steel', 'Casing Interpolate': True, 'Casing Fit Choice': None, 'Insulator Material': 'NbTi', 'Insulator Interpolate': True, 'Insulator Fit Choice': None, 'Core Material': 'Beryllium_Copper', 'Core Interpolate': True, 'Core Fit Choice': None, 'Case OD (m)': 0.00088, 'Insulator OD (m)': 0.00062, 'Core OD (m)': 0.0002032, 'Length (m)': 0.1016, 'Number': 7.0, 'Power per Part (W)': 5.209784708991532e-10, 'Power Total (W)': 3.6468492962940723e-09}, 'FPA Legs': {'Type': 'Component', 'Material': 'Graphite_a', 'Interpolate': True, 'Fit Choice': None, 'OD (m)': 0.0024384, 'ID (m)': 0.0016764, 'Length (m)': 0.1016, 'Number': 24.0, 'Power per Part (W)': 1.274642162489502e-09, 'Power Total (W)': 3.059141189974805e-08}, 'Radiation': {'Type': 'Other', 'Number': 1.0, 'Power per Part (W)': 5.02e-08, 'Power Total (W)': 5.02e-08}, 'Optical Loading': {'Type': 'Other', 'Number': 3.0, 'Power per Part (W)': 3.3532e-07, 'Power Total (W)': 1.00596e-06}, 'Optical Load': {'Type': 'Power per Part', 'Power per Part (W)': 0.0, 'Number': 1, 'Power Total (W)': 0.0}}}\n",
      "G10 Support Cylinder 0.11139374555154515\n"
     ]
    }
   ],
   "source": [
    "from thermal_model_class import ThermalModel as TM\n",
    "\n",
    "# Now we can create a ThermalModel object from the loaded JSON data\n",
    "blast_tm = TM(tm)\n",
    "print(blast_tm.components)\n",
    "\n",
    "# The ThermalModel object has various methods to manipulate and inspect thermal model.\n",
    "comp = blast_tm.get_component(\"G10 Support Cylinder\", \"VCS 2\")\n",
    "print(comp.name, comp.total_power)\n"
   ]
  },
  {
   "cell_type": "code",
   "execution_count": 3,
   "id": "fd50982b",
   "metadata": {},
   "outputs": [
    {
     "name": "stdout",
     "output_type": "stream",
     "text": [
      "PLOT Using interpolation for G10 Support Cylinder\n",
      "<scipy.interpolate._interpolate.interp1d object at 0x000001A980B75D60>\n"
     ]
    },
    {
     "data": {
      "image/png": "[encoded data removed]",
      "text/plain": [
       "<Figure size 640x480 with 1 Axes>"
      ]
     },
     "metadata": {},
     "output_type": "display_data"
    }
   ],
   "source": [
    "comp.plot()"
   ]
  },
  {
   "cell_type": "code",
   "execution_count": 4,
   "id": "32a9fd36",
   "metadata": {},
   "outputs": [
    {
     "data": {
      "application/vnd.plotly.v1+json": {
       "config": {
        "plotlyServerURL": "https://plot.ly"
       },
       "data": [
        {
         "customdata": {
          "bdata": "/5I4JNev6z/wzh6rKlzaP87wOdtCxcw/93Qev1eqoD+Mv5TCjEHmP1yPwvUoXAFAeekmMQisvD8AAAAAAAAAAA==",
          "dtype": "f8",
          "shape": "8, 1"
         },
         "domain": {
          "x": [
           0,
           1
          ],
          "y": [
           0,
           1
          ]
         },
         "hovertemplate": "Component=%{label}<br>Power (W)=%{customdata[0]:e}<extra></extra>",
         "labels": [
          "G10 Support Cylinder",
          "He Fill Tube",
          "He Pump Pot Tube",
          "Housekeeping Cables",
          "Coax Cables",
          "Radiation Vac Can",
          "Radiation Window",
          "Optical Load"
         ],
         "legendgroup": "",
         "name": "",
         "showlegend": true,
         "textinfo": "percent+label",
         "textposition": "inside",
         "type": "pie",
         "values": {
          "bdata": "/5I4JNev6z/wzh6rKlzaP87wOdtCxcw/93Qev1eqoD+Mv5TCjEHmP1yPwvUoXAFAeekmMQisvD8AAAAAAAAAAA==",
          "dtype": "f8"
         }
        }
       ],
       "layout": {
        "legend": {
         "tracegroupgap": 0
        },
        "piecolorway": [
         "rgb(103,0,31)",
         "rgb(178,24,43)",
         "rgb(214,96,77)",
         "rgb(244,165,130)",
         "rgb(253,219,199)",
         "rgb(247,247,247)",
         "rgb(209,229,240)",
         "rgb(146,197,222)",
         "rgb(67,147,195)",
         "rgb(33,102,172)",
         "rgb(5,48,97)"
        ],
        "template": {
         "data": {
          "candlestick": [
           {
            "decreasing": {
             "line": {
              "color": "#000033"
             }
            },
            "increasing": {
             "line": {
              "color": "#000032"
             }
            },
            "type": "candlestick"
           }
          ],
          "contour": [
           {
            "colorscale": [
             [
              0,
              "#000011"
             ],
             [
              0.1111111111111111,
              "#000012"
             ],
             [
              0.2222222222222222,
              "#000013"
             ],
             [
              0.3333333333333333,
              "#000014"
             ],
             [
              0.4444444444444444,
              "#000015"
             ],
             [
              0.5555555555555556,
              "#000016"
             ],
             [
              0.6666666666666666,
              "#000017"
             ],
             [
              0.7777777777777778,
              "#000018"
             ],
             [
              0.8888888888888888,
              "#000019"
             ],
             [
              1,
              "#000020"
             ]
            ],
            "type": "contour"
           }
          ],
          "contourcarpet": [
           {
            "colorscale": [
             [
              0,
              "#000011"
             ],
             [
              0.1111111111111111,
              "#000012"
             ],
             [
              0.2222222222222222,
              "#000013"
             ],
             [
              0.3333333333333333,
              "#000014"
             ],
             [
              0.4444444444444444,
              "#000015"
             ],
             [
              0.5555555555555556,
              "#000016"
             ],
             [
              0.6666666666666666,
              "#000017"
             ],
             [
              0.7777777777777778,
              "#000018"
             ],
             [
              0.8888888888888888,
              "#000019"
             ],
             [
              1,
              "#000020"
             ]
            ],
            "type": "contourcarpet"
           }
          ],
          "heatmap": [
           {
            "colorscale": [
             [
              0,
              "#000011"
             ],
             [
              0.1111111111111111,
              "#000012"
             ],
             [
              0.2222222222222222,
              "#000013"
             ],
             [
              0.3333333333333333,
              "#000014"
             ],
             [
              0.4444444444444444,
              "#000015"
             ],
             [
              0.5555555555555556,
              "#000016"
             ],
             [
              0.6666666666666666,
              "#000017"
             ],
             [
              0.7777777777777778,
              "#000018"
             ],
             [
              0.8888888888888888,
              "#000019"
             ],
             [
              1,
              "#000020"
             ]
            ],
            "type": "heatmap"
           }
          ],
          "histogram2d": [
           {
            "colorscale": [
             [
              0,
              "#000011"
             ],
             [
              0.1111111111111111,
              "#000012"
             ],
             [
              0.2222222222222222,
              "#000013"
             ],
             [
              0.3333333333333333,
              "#000014"
             ],
             [
              0.4444444444444444,
              "#000015"
             ],
             [
              0.5555555555555556,
              "#000016"
             ],
             [
              0.6666666666666666,
              "#000017"
             ],
             [
              0.7777777777777778,
              "#000018"
             ],
             [
              0.8888888888888888,
              "#000019"
             ],
             [
              1,
              "#000020"
             ]
            ],
            "type": "histogram2d"
           }
          ],
          "icicle": [
           {
            "textfont": {
             "color": "white"
            },
            "type": "icicle"
           }
          ],
          "sankey": [
           {
            "textfont": {
             "color": "#000036"
            },
            "type": "sankey"
           }
          ],
          "scatter": [
           {
            "marker": {
             "line": {
              "width": 0
             }
            },
            "type": "scatter"
           }
          ],
          "table": [
           {
            "cells": {
             "fill": {
              "color": "#000038"
             },
             "font": {
              "color": "#000037"
             },
             "line": {
              "color": "#000039"
             }
            },
            "header": {
             "fill": {
              "color": "#000040"
             },
             "font": {
              "color": "#000036"
             },
             "line": {
              "color": "#000039"
             }
            },
            "type": "table"
           }
          ],
          "waterfall": [
           {
            "connector": {
             "line": {
              "color": "#000036",
              "width": 2
             }
            },
            "decreasing": {
             "marker": {
              "color": "#000033"
             }
            },
            "increasing": {
             "marker": {
              "color": "#000032"
             }
            },
            "totals": {
             "marker": {
              "color": "#000034"
             }
            },
            "type": "waterfall"
           }
          ]
         },
         "layout": {
          "coloraxis": {
           "colorscale": [
            [
             0,
             "#000011"
            ],
            [
             0.1111111111111111,
             "#000012"
            ],
            [
             0.2222222222222222,
             "#000013"
            ],
            [
             0.3333333333333333,
             "#000014"
            ],
            [
             0.4444444444444444,
             "#000015"
            ],
            [
             0.5555555555555556,
             "#000016"
            ],
            [
             0.6666666666666666,
             "#000017"
            ],
            [
             0.7777777777777778,
             "#000018"
            ],
            [
             0.8888888888888888,
             "#000019"
            ],
            [
             1,
             "#000020"
            ]
           ]
          },
          "colorscale": {
           "diverging": [
            [
             0,
             "#000021"
            ],
            [
             0.1,
             "#000022"
            ],
            [
             0.2,
             "#000023"
            ],
            [
             0.3,
             "#000024"
            ],
            [
             0.4,
             "#000025"
            ],
            [
             0.5,
             "#000026"
            ],
            [
             0.6,
             "#000027"
            ],
            [
             0.7,
             "#000028"
            ],
            [
             0.8,
             "#000029"
            ],
            [
             0.9,
             "#000030"
            ],
            [
             1,
             "#000031"
            ]
           ],
           "sequential": [
            [
             0,
             "#000011"
            ],
            [
             0.1111111111111111,
             "#000012"
            ],
            [
             0.2222222222222222,
             "#000013"
            ],
            [
             0.3333333333333333,
             "#000014"
            ],
            [
             0.4444444444444444,
             "#000015"
            ],
            [
             0.5555555555555556,
             "#000016"
            ],
            [
             0.6666666666666666,
             "#000017"
            ],
            [
             0.7777777777777778,
             "#000018"
            ],
            [
             0.8888888888888888,
             "#000019"
            ],
            [
             1,
             "#000020"
            ]
           ],
           "sequentialminus": [
            [
             0,
             "#000011"
            ],
            [
             0.1111111111111111,
             "#000012"
            ],
            [
             0.2222222222222222,
             "#000013"
            ],
            [
             0.3333333333333333,
             "#000014"
            ],
            [
             0.4444444444444444,
             "#000015"
            ],
            [
             0.5555555555555556,
             "#000016"
            ],
            [
             0.6666666666666666,
             "#000017"
            ],
            [
             0.7777777777777778,
             "#000018"
            ],
            [
             0.8888888888888888,
             "#000019"
            ],
            [
             1,
             "#000020"
            ]
           ]
          },
          "colorway": [
           "#000001",
           "#000002",
           "#000003",
           "#000004",
           "#000005",
           "#000006",
           "#000007",
           "#000008",
           "#000009",
           "#000010"
          ]
         }
        },
        "title": {
         "text": "Power Distribution for VCS 1"
        }
       }
      }
     },
     "metadata": {},
     "output_type": "display_data"
    }
   ],
   "source": [
    "blast_tm.plot_stage(\"VCS 1\", streamlit=False)"
   ]
  },
  {
   "cell_type": "code",
   "execution_count": 5,
   "id": "08e97cc9",
   "metadata": {},
   "outputs": [
    {
     "name": "stdout",
     "output_type": "stream",
     "text": [
      "Help on method plot_stage in module thermal_model_class:\n",
      "\n",
      "plot_stage(stage_name, streamlit=False) method of thermal_model_class.ThermalModel instance\n",
      "    Plot the thermal model for a specific stage.\n",
      "\n",
      "    Args:\n",
      "        stage_name (str): The name of the stage to plot.\n",
      "        streamlit (bool, optional): Whether to use Streamlit for plotting. Defaults to False.\n",
      "\n",
      "    Returns:\n",
      "        Figure: The plotted figure.\n",
      "\n"
     ]
    }
   ],
   "source": [
    "help(blast_tm.plot_stage)"
   ]
  }
 ],
 "metadata": {
  "kernelspec": {
   "display_name": "BLAST",
   "language": "python",
   "name": "python3"
  },
  "language_info": {
   "codemirror_mode": {
    "name": "ipython",
    "version": 3
   },
   "file_extension": ".py",
   "mimetype": "text/x-python",
   "name": "python",
   "nbconvert_exporter": "python",
   "pygments_lexer": "ipython3",
   "version": "3.13.2"
  }
 },
 "nbformat": 4,
 "nbformat_minor": 5
}
